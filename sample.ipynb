{
 "cells": [
  {
   "cell_type": "code",
   "execution_count": 1,
   "metadata": {
    "papermill": {
     "duration": 0.011169,
     "end_time": "2019-09-16T02:53:12.773020",
     "exception": false,
     "start_time": "2019-09-16T02:53:12.761851",
     "status": "completed"
    },
    "tags": [
     "parameters"
    ]
   },
   "outputs": [],
   "source": [
    "msg = 'hello'"
   ]
  },
  {
   "cell_type": "code",
   "execution_count": 2,
   "metadata": {
    "papermill": {
     "duration": 0.007225,
     "end_time": "2019-09-16T02:53:12.781041",
     "exception": false,
     "start_time": "2019-09-16T02:53:12.773816",
     "status": "completed"
    },
    "tags": [
     "injected-parameters"
    ]
   },
   "outputs": [],
   "source": [
    "# Parameters\n",
    "msg = \"hellocli\"\n"
   ]
  },
  {
   "cell_type": "code",
   "execution_count": 3,
   "metadata": {
    "papermill": {
     "duration": 0.007442,
     "end_time": "2019-09-16T02:53:12.788649",
     "exception": false,
     "start_time": "2019-09-16T02:53:12.781207",
     "status": "completed"
    },
    "tags": []
   },
   "outputs": [
    {
     "name": "stdout",
     "output_type": "stream",
     "text": [
      "hellocli\n"
     ]
    }
   ],
   "source": [
    "print(msg)"
   ]
  },
  {
   "cell_type": "code",
   "execution_count": null,
   "metadata": {
    "papermill": {
     "duration": 2.7e-05,
     "end_time": "2019-09-16T02:53:12.788839",
     "exception": false,
     "start_time": "2019-09-16T02:53:12.788812",
     "status": "completed"
    },
    "tags": []
   },
   "outputs": [],
   "source": []
  }
 ],
 "metadata": {
  "celltoolbar": "Tags",
  "kernelspec": {
   "display_name": "Python 3",
   "language": "python",
   "name": "python3"
  },
  "language_info": {
   "codemirror_mode": {
    "name": "ipython",
    "version": 3
   },
   "file_extension": ".py",
   "mimetype": "text/x-python",
   "name": "python",
   "nbconvert_exporter": "python",
   "pygments_lexer": "ipython3",
   "version": "3.6.9"
  },
  "papermill": {
   "duration": 1.118933,
   "end_time": "2019-09-16T02:53:12.998815",
   "environment_variables": {},
   "exception": null,
   "input_path": "github+https://github.daumkakao.com/emeth-kim/bookcase/blob/master/sample.ipynb",
   "output_path": "github+https://github.com/mskimm/bookcase/blob/master/sample.ipynb",
   "parameters": {
    "msg": "hellocli"
   },
   "start_time": "2019-09-16T02:53:11.879882",
   "version": "1.1.0"
  }
 },
 "nbformat": 4,
 "nbformat_minor": 2
}