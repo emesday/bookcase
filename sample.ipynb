{
 "cells": [
  {
   "cell_type": "code",
   "execution_count": 1,
   "metadata": {
    "papermill": {
     "duration": 0.009375,
     "end_time": "2019-09-16T03:14:38.016977",
     "exception": false,
     "start_time": "2019-09-16T03:14:38.007602",
     "status": "completed"
    },
    "tags": [
     "parameters"
    ]
   },
   "outputs": [],
   "source": [
    "msg = 'hello'"
   ]
  },
  {
   "cell_type": "code",
   "execution_count": 2,
   "metadata": {
    "papermill": {
     "duration": 0.006476,
     "end_time": "2019-09-16T03:14:38.024305",
     "exception": false,
     "start_time": "2019-09-16T03:14:38.017829",
     "status": "completed"
    },
    "tags": [
     "injected-parameters"
    ]
   },
   "outputs": [],
   "source": [
    "# Parameters\n",
    "msg = \"hellocli2\"\n"
   ]
  },
  {
   "cell_type": "code",
   "execution_count": 3,
   "metadata": {
    "papermill": {
     "duration": 0.007987,
     "end_time": "2019-09-16T03:14:38.032460",
     "exception": false,
     "start_time": "2019-09-16T03:14:38.024473",
     "status": "completed"
    },
    "tags": []
   },
   "outputs": [
    {
     "name": "stdout",
     "output_type": "stream",
     "text": [
      "hellocli2\n"
     ]
    }
   ],
   "source": [
    "print(msg)"
   ]
  },
  {
   "cell_type": "code",
   "execution_count": null,
   "metadata": {
    "papermill": {
     "duration": 2.7e-05,
     "end_time": "2019-09-16T03:14:38.032651",
     "exception": false,
     "start_time": "2019-09-16T03:14:38.032624",
     "status": "completed"
    },
    "tags": []
   },
   "outputs": [],
   "source": []
  }
 ],
 "metadata": {
  "celltoolbar": "Tags",
  "kernelspec": {
   "display_name": "Python 3",
   "language": "python",
   "name": "python3"
  },
  "language_info": {
   "codemirror_mode": {
    "name": "ipython",
    "version": 3
   },
   "file_extension": ".py",
   "mimetype": "text/x-python",
   "name": "python",
   "nbconvert_exporter": "python",
   "pygments_lexer": "ipython3",
   "version": "3.6.9"
  },
  "papermill": {
   "duration": 1.146983,
   "end_time": "2019-09-16T03:14:38.244793",
   "environment_variables": {},
   "exception": null,
   "input_path": "github+https://github.daumkakao.com/emeth-kim/bookcase/blob/master/sample.ipynb",
   "output_path": "github+https://github.com/mskimm/bookcase/blob/master/sample.ipynb",
   "parameters": {
    "msg": "hellocli2"
   },
   "start_time": "2019-09-16T03:14:37.097810",
   "version": "1.1.0"
  }
 },
 "nbformat": 4,
 "nbformat_minor": 2
}