{
 "cells": [
  {
   "cell_type": "code",
   "execution_count": 1,
   "metadata": {
    "papermill": {
     "duration": 0.011382,
     "end_time": "2019-09-16T02:53:25.569787",
     "exception": false,
     "start_time": "2019-09-16T02:53:25.558405",
     "status": "completed"
    },
    "tags": [
     "parameters"
    ]
   },
   "outputs": [],
   "source": [
    "msg = 'hello'"
   ]
  },
  {
   "cell_type": "code",
   "execution_count": 2,
   "metadata": {
    "papermill": {
     "duration": 0.00682,
     "end_time": "2019-09-16T02:53:25.577405",
     "exception": false,
     "start_time": "2019-09-16T02:53:25.570585",
     "status": "completed"
    },
    "tags": [
     "injected-parameters"
    ]
   },
   "outputs": [],
   "source": [
    "# Parameters\n",
    "msg = \"hellocli2\"\n"
   ]
  },
  {
   "cell_type": "code",
   "execution_count": 3,
   "metadata": {
    "papermill": {
     "duration": 0.007713,
     "end_time": "2019-09-16T02:53:25.585284",
     "exception": false,
     "start_time": "2019-09-16T02:53:25.577571",
     "status": "completed"
    },
    "tags": []
   },
   "outputs": [
    {
     "name": "stdout",
     "output_type": "stream",
     "text": [
      "hellocli2\n"
     ]
    }
   ],
   "source": [
    "print(msg)"
   ]
  },
  {
   "cell_type": "code",
   "execution_count": null,
   "metadata": {
    "papermill": {
     "duration": 2.7e-05,
     "end_time": "2019-09-16T02:53:25.585472",
     "exception": false,
     "start_time": "2019-09-16T02:53:25.585445",
     "status": "completed"
    },
    "tags": []
   },
   "outputs": [],
   "source": []
  }
 ],
 "metadata": {
  "celltoolbar": "Tags",
  "kernelspec": {
   "display_name": "Python 3",
   "language": "python",
   "name": "python3"
  },
  "language_info": {
   "codemirror_mode": {
    "name": "ipython",
    "version": 3
   },
   "file_extension": ".py",
   "mimetype": "text/x-python",
   "name": "python",
   "nbconvert_exporter": "python",
   "pygments_lexer": "ipython3",
   "version": "3.6.9"
  },
  "papermill": {
   "duration": 1.117055,
   "end_time": "2019-09-16T02:53:25.794970",
   "environment_variables": {},
   "exception": null,
   "input_path": "github+https://github.daumkakao.com/emeth-kim/bookcase/blob/master/sample.ipynb",
   "output_path": "github+https://github.com/mskimm/bookcase/blob/master/sample.ipynb",
   "parameters": {
    "msg": "hellocli2"
   },
   "start_time": "2019-09-16T02:53:24.677915",
   "version": "1.1.0"
  }
 },
 "nbformat": 4,
 "nbformat_minor": 2
}