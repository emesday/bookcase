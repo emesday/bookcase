{
 "cells": [
  {
   "cell_type": "code",
   "execution_count": 1,
   "metadata": {
    "papermill": {
     "duration": 0.011175,
     "end_time": "2019-09-16T02:51:36.252438",
     "exception": false,
     "start_time": "2019-09-16T02:51:36.241263",
     "status": "completed"
    },
    "tags": [
     "parameters"
    ]
   },
   "outputs": [],
   "source": [
    "msg = 'hello'"
   ]
  },
  {
   "cell_type": "code",
   "execution_count": 2,
   "metadata": {
    "papermill": {
     "duration": 0.005954,
     "end_time": "2019-09-16T02:51:36.259089",
     "exception": false,
     "start_time": "2019-09-16T02:51:36.253135",
     "status": "completed"
    },
    "tags": [
     "injected-parameters"
    ]
   },
   "outputs": [],
   "source": [
    "# Parameters\n",
    "msg = \"hellocli\"\n"
   ]
  },
  {
   "cell_type": "code",
   "execution_count": 3,
   "metadata": {
    "papermill": {
     "duration": 0.007385,
     "end_time": "2019-09-16T02:51:36.266618",
     "exception": false,
     "start_time": "2019-09-16T02:51:36.259233",
     "status": "completed"
    },
    "tags": []
   },
   "outputs": [
    {
     "name": "stdout",
     "output_type": "stream",
     "text": [
      "hellocli\n"
     ]
    }
   ],
   "source": [
    "print(msg)"
   ]
  },
  {
   "cell_type": "code",
   "execution_count": null,
   "metadata": {
    "papermill": {
     "duration": 7.6e-05,
     "end_time": "2019-09-16T02:51:36.266845",
     "exception": false,
     "start_time": "2019-09-16T02:51:36.266769",
     "status": "completed"
    },
    "tags": []
   },
   "outputs": [],
   "source": []
  }
 ],
 "metadata": {
  "celltoolbar": "Tags",
  "kernelspec": {
   "display_name": "Python 3",
   "language": "python",
   "name": "python3"
  },
  "language_info": {
   "codemirror_mode": {
    "name": "ipython",
    "version": 3
   },
   "file_extension": ".py",
   "mimetype": "text/x-python",
   "name": "python",
   "nbconvert_exporter": "python",
   "pygments_lexer": "ipython3",
   "version": "3.6.9"
  },
  "papermill": {
   "duration": 1.103285,
   "end_time": "2019-09-16T02:51:36.476127",
   "environment_variables": {},
   "exception": null,
   "input_path": "github+https://github.daumkakao.com/emeth-kim/bookcase/blob/master/sample.ipynb",
   "output_path": "github+https://github.com/mskimm/bookcase/blob/master/sample.ipynb",
   "parameters": {
    "msg": "hellocli"
   },
   "start_time": "2019-09-16T02:51:35.372842",
   "version": "1.1.0"
  }
 },
 "nbformat": 4,
 "nbformat_minor": 2
}