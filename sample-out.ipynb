{
 "cells": [
  {
   "cell_type": "code",
   "execution_count": 1,
   "metadata": {
    "papermill": {
     "duration": 0.011377,
     "end_time": "2019-09-16T02:51:08.762352",
     "exception": false,
     "start_time": "2019-09-16T02:51:08.750975",
     "status": "completed"
    },
    "tags": [
     "parameters"
    ]
   },
   "outputs": [],
   "source": [
    "msg = 'hello'"
   ]
  },
  {
   "cell_type": "code",
   "execution_count": 2,
   "metadata": {
    "papermill": {
     "duration": 0.006658,
     "end_time": "2019-09-16T02:51:08.769786",
     "exception": false,
     "start_time": "2019-09-16T02:51:08.763128",
     "status": "completed"
    },
    "tags": [
     "injected-parameters"
    ]
   },
   "outputs": [],
   "source": [
    "# Parameters\n",
    "msg = \"hellocli\"\n"
   ]
  },
  {
   "cell_type": "code",
   "execution_count": 3,
   "metadata": {
    "papermill": {
     "duration": 0.007874,
     "end_time": "2019-09-16T02:51:08.777828",
     "exception": false,
     "start_time": "2019-09-16T02:51:08.769954",
     "status": "completed"
    },
    "tags": []
   },
   "outputs": [
    {
     "name": "stdout",
     "output_type": "stream",
     "text": [
      "hellocli\n"
     ]
    }
   ],
   "source": [
    "print(msg)"
   ]
  },
  {
   "cell_type": "code",
   "execution_count": null,
   "metadata": {
    "papermill": {
     "duration": 2.7e-05,
     "end_time": "2019-09-16T02:51:08.778037",
     "exception": false,
     "start_time": "2019-09-16T02:51:08.778010",
     "status": "completed"
    },
    "tags": []
   },
   "outputs": [],
   "source": []
  }
 ],
 "metadata": {
  "celltoolbar": "Tags",
  "kernelspec": {
   "display_name": "Python 3",
   "language": "python",
   "name": "python3"
  },
  "language_info": {
   "codemirror_mode": {
    "name": "ipython",
    "version": 3
   },
   "file_extension": ".py",
   "mimetype": "text/x-python",
   "name": "python",
   "nbconvert_exporter": "python",
   "pygments_lexer": "ipython3",
   "version": "3.6.9"
  },
  "papermill": {
   "duration": 1.117509,
   "end_time": "2019-09-16T02:51:08.989422",
   "environment_variables": {},
   "exception": null,
   "input_path": "github+https://github.daumkakao.com/emeth-kim/bookcase/blob/master/sample.ipynb",
   "output_path": "github+https://github.com/mskimm/bookcase/blob/master/sample-out.ipynb",
   "parameters": {
    "msg": "hellocli"
   },
   "start_time": "2019-09-16T02:51:07.871913",
   "version": "1.1.0"
  }
 },
 "nbformat": 4,
 "nbformat_minor": 2
}